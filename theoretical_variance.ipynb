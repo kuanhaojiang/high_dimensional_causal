{
 "cells": [
  {
   "cell_type": "code",
   "execution_count": 1,
   "metadata": {},
   "outputs": [],
   "source": [
    "import numpy as np\n",
    "from scipy.optimize import fsolve\n",
    "from itertools import permutations\n",
    "np.set_printoptions(suppress=True)"
   ]
  },
  {
   "cell_type": "markdown",
   "metadata": {},
   "source": [
    "# Helper Functions"
   ]
  },
  {
   "cell_type": "code",
   "execution_count": 2,
   "metadata": {},
   "outputs": [],
   "source": [
    "# sigmoid function\n",
    "def sigmoid(x):\n",
    "  return 1 / (1 + np.exp(-x))\n",
    "\n",
    "# derivative of sigmoid function\n",
    "def sigmoid_prime(x):\n",
    "  return np.exp(-x) / (1 + np.exp(-x))**2"
   ]
  },
  {
   "cell_type": "code",
   "execution_count": 3,
   "metadata": {},
   "outputs": [],
   "source": [
    "def system_of_eqs(ridge_param, kappa, gamma, alpha, tau, lambda_):\n",
    "    # This returns the system of equations involving alpha, sigma, and lambda\n",
    "    \n",
    "    # Defines the proximal function\n",
    "    prox = lambda z : fsolve(lambda t  : lambda_ *  sigmoid(t) + t - z, z, xtol=1e-8)\n",
    "    \n",
    "    # We now compute the density of Q_1, Q_2 which we express as the density of\n",
    "    # Z_1, Z_2 where Q_1 = gamma Z_1 and Q_2 = tau Z_2\n",
    "    # The correlation between Z_1 and Z_2 is alpha x gamma / tau\n",
    "    rho = alpha * gamma / tau\n",
    "    \n",
    "    # Set up a fine grid for computing the density\n",
    "    density = lambda z1 ,z2 : np.multiply(1 / (2 * np.pi * np.sqrt(1 - rho ** 2)),np.exp(- (z1 ** 2 - np.multiply(2 * rho * z1,z2) + z2 ** 2) / 2 / (1 - rho ** 2)))\n",
    "    step_size = 0.025\n",
    "    z1 = np.arange(-8,8+step_size,step_size)\n",
    "    z2 = np.arange(-8,8+step_size,step_size)\n",
    "    Z1,Z2 = np.meshgrid(z1,z2)\n",
    "    D = density(Z1,Z2)\n",
    "\n",
    "    # Compute prox(Q_2) on a fine grid\n",
    "    proxQ2 = prox(tau * z2)\n",
    "\n",
    "    # Evaluate rho_prime and rho_double_prime at the prox\n",
    "    sigmoid_proxQ2 = sigmoid(proxQ2)\n",
    "    sigmoid_prime_proxQ2 = sigmoid_prime(proxQ2)\n",
    "\n",
    "    # Helper functions for tensor and numerical integration\n",
    "    make_tensor = lambda z1  ,z2  : np.outer(z1,z2)\n",
    "    trapezoidal_rule = lambda X  : step_size ** 2 * sum(X.ravel())\n",
    "    \n",
    "    # Evaluate the equation's right-hand sides\n",
    "    RHS1 = 1 / kappa * trapezoidal_rule(np.multiply(make_tensor(2 *  sigmoid(- gamma * z1),(lambda_ *  sigmoid_proxQ2) ** 2),D))\n",
    "    RHS2 = trapezoidal_rule(np.multiply(make_tensor(np.multiply(- 2 *  sigmoid(- gamma * z1) * gamma,z1), sigmoid_proxQ2),D))\n",
    "    RHS3 = trapezoidal_rule(np.multiply(make_tensor(2 *  sigmoid(- gamma * z1),1.0 / (1 + lambda_ * sigmoid_prime_proxQ2)),D))\n",
    "    \n",
    "    # Return LHS - RHS for the equations\n",
    "    return tau ** 2 - alpha ** 2 * gamma ** 2 - RHS1, alpha * gamma ** 2 * ridge_param - RHS2, 1 - kappa + lambda_ * ridge_param - RHS3\n",
    "\n",
    "def solve_eqs(kappa,gamma,ridge_param): \n",
    "    # This solves the system of equations\n",
    "\n",
    "    # Initial guess for alpha, lambda, and tau\n",
    "    alpha0, lambda0 = 1.2, 1.2\n",
    "    tau0 = np.sqrt(2) * alpha0 * gamma\n",
    "    x0 = [alpha0, tau0, lambda0]\n",
    "\n",
    "    # Solve the system of equations using fsolve\n",
    "    x = fsolve(lambda x: system_of_eqs(ridge_param,kappa,gamma,x[0],x[1],x[2]), x0, xtol=1e-8)\n",
    "    alpha_star, tau_star, lambda_star = x[0], x[1], x[2]\n",
    "\n",
    "    # Compute and return the final values of alpha_star, sigma_star, and lambda_star\n",
    "    sigma_star = np.sqrt((tau_star ** 2 - alpha_star ** 2 * gamma ** 2) / kappa)\n",
    "    alpha_star = alpha_star * kappa / (kappa - lambda_star * ridge_param)\n",
    "    sigma_star = sigma_star * kappa / (kappa - lambda_star * ridge_param)\n",
    "    return alpha_star, sigma_star, lambda_star"
   ]
  },
  {
   "cell_type": "code",
   "execution_count": null,
   "metadata": {},
   "outputs": [],
   "source": []
  },
  {
   "cell_type": "markdown",
   "metadata": {},
   "source": [
    "# Define Parameters"
   ]
  },
  {
   "cell_type": "code",
   "execution_count": 4,
   "metadata": {},
   "outputs": [],
   "source": [
    "n, p = 10000, 700\n",
    "r1, r2= 1/3, 1/3\n",
    "n1, n2 = int(n*r1), int(n*r2)\n",
    "n3 = n - n1 - n2\n",
    "r1, r2, r3 = n1/n, n2/n, n3/n\n",
    "alpha1, alpha0 = 2, 0\n",
    "gamma = 0.1\n",
    "\n",
    "kappa, kappa1, kappa2, kappa3 = p/n, p/n1, p/n2, p/n3\n",
    "gamma0, gamma1 = 0.1 / np.sqrt(kappa), 0.1 / np.sqrt(kappa)\n",
    "rho_12 = 0.2\n",
    "sigma = 1\n",
    "\n",
    "kappas = [kappa1, kappa2, kappa3]\n",
    "ns = [n1, n2, n3]\n",
    "rs = [r1, r2, r3]"
   ]
  },
  {
   "cell_type": "markdown",
   "metadata": {},
   "source": [
    "# Compute Limit of Variance"
   ]
  },
  {
   "cell_type": "code",
   "execution_count": 5,
   "metadata": {},
   "outputs": [
    {
     "name": "stderr",
     "output_type": "stream",
     "text": [
      "<ipython-input-2-0f9c5c810f10>:3: RuntimeWarning: overflow encountered in exp\n",
      "  return 1 / (1 + np.exp(-x))\n",
      "<ipython-input-3-ce0a7c9be852>:13: RuntimeWarning: invalid value encountered in sqrt\n",
      "  density = lambda z1 ,z2 : np.multiply(1 / (2 * np.pi * np.sqrt(1 - rho ** 2)),np.exp(- (z1 ** 2 - np.multiply(2 * rho * z1,z2) + z2 ** 2) / 2 / (1 - rho ** 2)))\n",
      "<ipython-input-3-ce0a7c9be852>:5: RuntimeWarning: The iteration is not making good progress, as measured by the \n",
      "  improvement from the last ten iterations.\n",
      "  prox = lambda z : fsolve(lambda t  : lambda_ *  sigmoid(t) + t - z, z, xtol=1e-8)\n"
     ]
    }
   ],
   "source": [
    "# Solve system of equations for the three splits\n",
    "alpha_i_star, sigma_i_star, lambda_i_star = np.ones(3), np.ones(3), np.ones(3)\n",
    "for i in range(3):\n",
    "    alpha_i_star[i], sigma_i_star[i], lambda_i_star[i] = solve_eqs(p/ns[i], gamma, ridge_param=0)"
   ]
  },
  {
   "cell_type": "code",
   "execution_count": 6,
   "metadata": {},
   "outputs": [],
   "source": [
    "# Compute the covariance matrix defined in Lemma D.6\n",
    "cov_mat = [[gamma**2, alpha_i_star[0]*gamma**2, alpha_i_star[1]*gamma**2, alpha_i_star[2]*gamma**2], \n",
    "[alpha_i_star[0]*gamma**2, kappas[0] *sigma_i_star[0]**2 + alpha_i_star[0]**2*gamma**2, gamma**2*alpha_i_star[0]*alpha_i_star[1], gamma**2*alpha_i_star[0]*alpha_i_star[2]],\n",
    "[alpha_i_star[1]*gamma**2, gamma**2*alpha_i_star[0]*alpha_i_star[1], kappas[1] *sigma_i_star[1]**2 + alpha_i_star[1]**2*gamma**2, gamma**2*alpha_i_star[1]*alpha_i_star[2]],\n",
    "[alpha_i_star[2]*gamma**2, gamma**2*alpha_i_star[0]*alpha_i_star[2], gamma**2*alpha_i_star[1]*alpha_i_star[2], kappas[2] *sigma_i_star[2]**2 + alpha_i_star[2]**2*gamma**2]]\n",
    "cov_mat = np.array(cov_mat)"
   ]
  },
  {
   "cell_type": "code",
   "execution_count": 7,
   "metadata": {},
   "outputs": [],
   "source": [
    "# Compute e_{\\gamma, C} where C = 0, defined in Appendix A.1, item 10\n",
    "density = lambda z1 : 1/ np.sqrt(2 * np.pi) * np.exp(-(z1**2/2))\n",
    "step_size = 0.025\n",
    "z1 = np.arange(-8,8+step_size,step_size)\n",
    "D = density(z1)\n",
    "trapezoidal_rule = lambda X: step_size * sum(X.ravel())\n",
    "integrands = z1 * sigmoid(gamma * z1) * D\n",
    "e_gamma_0 = trapezoidal_rule(integrands)"
   ]
  },
  {
   "cell_type": "code",
   "execution_count": 8,
   "metadata": {},
   "outputs": [],
   "source": [
    "# Compute h_i defined in Appendix A.1, item 10, s_i and t_i defined under Lemma A.1\n",
    "ss, hs, ts = np.ones(3), np.ones(3), np.ones(3)\n",
    "for i in range(3):\n",
    "    curr_cov_mat = cov_mat[np.ix_([0,i+1],[0,i+1])]\n",
    "    # square root of determinant of the covariance matrix\n",
    "    det_root = np.sqrt(np.abs(np.linalg.det(curr_cov_mat)))\n",
    "    # inverse of the covariance matrix\n",
    "    inv_cov_mat = np.linalg.inv(curr_cov_mat)\n",
    "    # density of the multivariate normal\n",
    "    density = lambda z1 ,z2: 1 / (2 * np.pi * det_root) * np.exp(- 1/2* (z1**2*inv_cov_mat[0,0]  + 2*z1*z2*inv_cov_mat[0,1] + z2**2*inv_cov_mat[1,1]))\n",
    "\n",
    "    # We now compute the density on a fine grid\n",
    "    step_size = 0.025\n",
    "    z1 = np.arange(-8,8+step_size,step_size)\n",
    "    z2 = np.arange(-8,8+step_size,step_size)\n",
    "    Z1,Z2 = np.meshgrid(z1,z2)\n",
    "    D = density(Z1,Z2)\n",
    "\n",
    "    # Helper functions for tensor and numerical integration\n",
    "    make_tensor = lambda z1, z2: np.outer(z1,z2)\n",
    "    trapezoidal_rule = lambda X: step_size ** 2 * sum(X.ravel())\n",
    "\n",
    "    # Compute s_i\n",
    "    t1 = 1/sigmoid(z2)\n",
    "    t2 = sigmoid(z1)\n",
    "    ss[i] = trapezoidal_rule(np.multiply(make_tensor(t1, t2),D))\n",
    "\n",
    "    # Compute h_i and t_i\n",
    "    t1 = 1/sigmoid(z2)\n",
    "    t2 = z1 * sigmoid(z1)\n",
    "    hs[i] = trapezoidal_rule(np.multiply(make_tensor(t1, t2),D))\n",
    "    ts[i] = (rs[i]/2-p/n)*(1-4*e_gamma_0**2)"
   ]
  },
  {
   "cell_type": "code",
   "execution_count": 9,
   "metadata": {},
   "outputs": [],
   "source": [
    "# Compute e_{gamma, -alpha_i_star * gamma} and q__{gamma, -alpha_i_star * gamma},\n",
    "# which appear in the defintion of f_{i,j} under Lemma A.1\n",
    "e_gamma_negative_s, q_gamma_negative_s = np.ones(3), np.ones(3)\n",
    "for i in range(3):\n",
    "    mu = - alpha_i_star[i] * gamma\n",
    "    density = lambda z1: 1/ np.sqrt(2 * np.pi) * np.exp(-((z1 - mu)**2/2))\n",
    "    step_size = 0.025\n",
    "    z1 = np.arange(-8,8+step_size,step_size)\n",
    "    D = density(z1)\n",
    "    trapezoidal_rule = lambda X: step_size * sum(X.ravel())\n",
    "    \n",
    "    # Compute e_{\\gamma, -alpha_i_star * gamma}\n",
    "    integrands = z1 * sigmoid(gamma * z1) * D\n",
    "    e_gamma_negative_s[i] = trapezoidal_rule(integrands)\n",
    "\n",
    "    # Compute q_{\\gamma, -alpha_i_star * gamma}\n",
    "    integrands = sigmoid(gamma * z1) * D\n",
    "    q_gamma_negative_s[i] = trapezoidal_rule(integrands)"
   ]
  },
  {
   "cell_type": "code",
   "execution_count": 10,
   "metadata": {},
   "outputs": [],
   "source": [
    "# Compute f_{i,j} defined under Lemma A.1\n",
    "fs = np.ones((3, 3))\n",
    "for i in range(3):\n",
    "    for j in range(3):\n",
    "        t1 = 2 * rs[i] * hs[j] * e_gamma_0 / gamma\n",
    "        expo_term = 0.5*(alpha_i_star[j]**2 * gamma**2 + kappas[j] * sigma_i_star[j]**2)\n",
    "        t2 = 4 * p / n * e_gamma_0 * (e_gamma_0 + np.exp(expo_term) * e_gamma_negative_s[j])\n",
    "        t3 = 2*p/n*(0.5 + np.exp(expo_term) * q_gamma_negative_s[j])\n",
    "        fs[i,j] = t1 - t2 + t3"
   ]
  },
  {
   "cell_type": "code",
   "execution_count": 11,
   "metadata": {},
   "outputs": [],
   "source": [
    "# Compute expectation of fractions\n",
    "val_1_2_s = np.ones(3) # sigmoid(Z_beta) / sigmoid^2(Z_{beta_{s_i}})\n",
    "val_2_1_s = np.ones(3) # sigmoid^2(Z_beta) / sigmoid(Z_{beta_{s_i}})\n",
    "val_prime_1_s = np.ones(3) # sigmoid_prime(Z_beta) / sigmoid(Z_{beta_{s_i}})\n",
    "val_0_i_over_i = np.ones(3) # sigmoid(Z_beta)Z_{beta_{s_i}} / sigmoid(Z_{beta_{s_i}})\n",
    "\n",
    "for i in range(3):\n",
    "    curr_cov_mat = cov_mat[np.ix_([0,i+1],[0,i+1])]\n",
    "    det_root = np.sqrt(np.abs(np.linalg.det(curr_cov_mat)))\n",
    "    inv_cov_mat = np.linalg.inv(curr_cov_mat)\n",
    "    density = lambda z1, z2: 1 / (2 * np.pi * det_root) * np.exp(- 1/2* (z1**2*inv_cov_mat[0,0] + 2*z1*z2*inv_cov_mat[0,1] + z2**2*inv_cov_mat[1,1]))\n",
    "\n",
    "    # We now compute the density on a fine grid\n",
    "    step_size = 0.025\n",
    "    z1 = np.arange(-8,8+step_size,step_size)\n",
    "    z2 = np.arange(-8,8+step_size,step_size)\n",
    "    Z1,Z2 = np.meshgrid(z1,z2)\n",
    "    D = density(Z1,Z2)\n",
    "    \n",
    "    # Helper functions for tensor and numerical integration\n",
    "    make_tensor = lambda z1  ,z2  : np.outer(z1,z2)\n",
    "    trapezoidal_rule = lambda X  : step_size ** 2 * sum(X.ravel())\n",
    "\n",
    "    # Compute the expectation of fractions\n",
    "    t1 = 1/sigmoid(z2)**2\n",
    "    t2 = sigmoid(z1)\n",
    "    val_1_2_s[i] = trapezoidal_rule(np.multiply(make_tensor(t1, t2),D))\n",
    "\n",
    "    t1 = 1/sigmoid(z2)\n",
    "    t2 = sigmoid(z1)**2\n",
    "    val_2_1_s[i] = trapezoidal_rule(np.multiply(make_tensor(t1, t2),D))\n",
    "\n",
    "    t1 = 1/sigmoid(z2)\n",
    "    t2 = sigmoid_prime(z1)\n",
    "    val_prime_1_s[i] = trapezoidal_rule(np.multiply(make_tensor(t1, t2),D))\n",
    "\n",
    "    t1 = z2/sigmoid(z2)\n",
    "    t2 = sigmoid(z1)\n",
    "    val_0_i_over_i[i] = trapezoidal_rule(np.multiply(make_tensor(t1, t2),D))\n"
   ]
  },
  {
   "cell_type": "code",
   "execution_count": 12,
   "metadata": {},
   "outputs": [
    {
     "name": "stderr",
     "output_type": "stream",
     "text": [
      "<ipython-input-2-0f9c5c810f10>:3: RuntimeWarning: overflow encountered in exp\n",
      "  return 1 / (1 + np.exp(-x))\n"
     ]
    }
   ],
   "source": [
    "# proximal function\n",
    "def prox(lambda_, z):\n",
    "    return fsolve(lambda t: lambda_ *  sigmoid(t) + t - z, z, xtol=1e-8)\n",
    "\n",
    "# Compute gs_{i, j} defined under Lemma A.1\n",
    "gs_part1 = np.ones((3, 3))\n",
    "gs_part2 = np.ones(3)\n",
    "gs = np.ones((3, 3))\n",
    "\n",
    "# Compute the first part of g_i \n",
    "for i in range(3):\n",
    "    for j in range(3):\n",
    "        if i == j:\n",
    "            continue\n",
    "        curr_cov_mat = cov_mat[np.ix_([0,i+1,j+1],[0,i+1,j+1])]\n",
    "        det_root = np.sqrt(np.abs(np.linalg.det(curr_cov_mat)))\n",
    "        inv_cov_mat = np.linalg.inv(curr_cov_mat)\n",
    "        density = lambda z1 ,z2, z3 : 1 / ((2 * np.pi)**1.5 * det_root) *\\\n",
    "            np.exp(- 1/2* (z1**2*inv_cov_mat[0,0] + z2**2*inv_cov_mat[1,1] +\\\n",
    "            z3**2*inv_cov_mat[2,2] + 2*z1*z2*inv_cov_mat[0,1] + 2*z1*z3*inv_cov_mat[0,2]+\\\n",
    "            2*z2*z3*inv_cov_mat[1,2]))\n",
    "        \n",
    "        # We now compute the density on a fine grid\n",
    "        step_size = 0.04\n",
    "        z1 = np.arange(-8,8+step_size,step_size)\n",
    "        z2 = np.arange(-8,8+step_size,step_size)\n",
    "        z3 = np.arange(-8,8+step_size,step_size)\n",
    "        Z1,Z2,Z3 = np.meshgrid(z1,z2,z3, indexing = 'ij')\n",
    "        D = density(Z1,Z2,Z3)\n",
    "\n",
    "        # Helper functions for tensor and numerical integration\n",
    "        make_tensor = lambda z1, z2, z3  : np.einsum('i,j,k',z1,z2,z3)\n",
    "        trapezoidal_rule = lambda X  : step_size ** 3 * sum(X.ravel())\n",
    "\n",
    "        t1 = sigmoid(z1)\n",
    "        t2 = 1/sigmoid(z2) - 1\n",
    "        t3 = 1 - sigmoid(prox( lambda_i_star[j], z3 + lambda_i_star[j] ))\n",
    "        gs_part1[i, j] = trapezoidal_rule(np.multiply(make_tensor(t1, t2, t3),D))\t\n",
    "\n",
    "# Compute the second part of g_i  \n",
    "for i in range(3):\n",
    "    curr_cov_mat = cov_mat[np.ix_([0,i+1],[0,i+1])]\n",
    "    det_root = np.sqrt(np.abs(np.linalg.det(curr_cov_mat)))\n",
    "    inv_cov_mat = np.linalg.inv(curr_cov_mat)\n",
    "    density = lambda z1, z2: 1 / (2 * np.pi * det_root) * np.exp(- 1/2* (z1**2*inv_cov_mat[0,0] + 2*z1*z2*inv_cov_mat[0,1] + z2**2*inv_cov_mat[1,1]))\n",
    "\n",
    "    # We now compute the density on a fine grid\n",
    "    step_size = 0.025\n",
    "    z1 = np.arange(-8,8+step_size,step_size)\n",
    "    z2 = np.arange(-8,8+step_size,step_size)\n",
    "    Z1,Z2 = np.meshgrid(z1,z2)\n",
    "    D = density(Z1,Z2)\n",
    "    \n",
    "    # Helper functions for tensor and numerical integration\n",
    "    make_tensor = lambda z1  ,z2  : np.outer(z1,z2)\n",
    "    trapezoidal_rule = lambda X  : step_size ** 2 * sum(X.ravel())\n",
    "\n",
    "    t1 = sigmoid(prox(lambda_i_star[i], z2))\n",
    "    t2 = 1 - sigmoid(z1)\n",
    "    gs_part2[i] = trapezoidal_rule(np.multiply(make_tensor(t1, t2),D))\n",
    "\n",
    "# Add the two parts up\n",
    "for i in range(3):\n",
    "    for j in range(3):\n",
    "        if i == j:\n",
    "            continue\n",
    "        gs[i, j] = gs_part1[i, j] + gs_part2[j]"
   ]
  },
  {
   "cell_type": "code",
   "execution_count": 13,
   "metadata": {},
   "outputs": [],
   "source": [
    "# Compute expectation of more fractions\n",
    "val_0_i_over_j = np.ones((3, 3)) # sigmoid(Z_beta) * Z_{beta_{s_i}} / sigmoid(Z_{beta_{s_j}})\n",
    "val_0_over_ij = np.ones((3, 3)) # sigmoid(Z_beta) / sigmoid(Z_{beta_{s_i}}) / sigmoid(Z_{beta_{s_j}})\n",
    "\n",
    "for i in range(3):\n",
    "    for j in range(3):\n",
    "        if i == j:\n",
    "            continue\n",
    "        curr_cov_mat = cov_mat[np.ix_([0,i+1,j+1],[0,i+1,j+1])]\n",
    "        det_root = np.sqrt(np.abs(np.linalg.det(curr_cov_mat)))\n",
    "        inv_cov_mat = np.linalg.inv(curr_cov_mat)\n",
    "        density = lambda z1 ,z2, z3 : 1 / ((2 * np.pi)**1.5 * det_root) *\\\n",
    "            np.exp(- 1/2* (z1**2*inv_cov_mat[0,0] + z2**2*inv_cov_mat[1,1] +\\\n",
    "            z3**2*inv_cov_mat[2,2] + 2*z1*z2*inv_cov_mat[0,1] + 2*z1*z3*inv_cov_mat[0,2]+\\\n",
    "            2*z2*z3*inv_cov_mat[1,2]))\n",
    "        \n",
    "        # We now compute the density on a fine grid\n",
    "        step_size = 0.04\n",
    "        z1 = np.arange(-8,8+step_size,step_size)\n",
    "        z2 = np.arange(-8,8+step_size,step_size)\n",
    "        z3 = np.arange(-8,8+step_size,step_size)\n",
    "        Z1,Z2,Z3 = np.meshgrid(z1,z2,z3, indexing = 'ij')\n",
    "        D = density(Z1,Z2,Z3)\n",
    "\n",
    "        # Helper functions for tensor and numerical integration\n",
    "        make_tensor = lambda z1, z2, z3: np.einsum('i,j,k',z1,z2,z3)\n",
    "        trapezoidal_rule = lambda X: step_size ** 3 * sum(X.ravel())\n",
    "\n",
    "        t1 = sigmoid(z1)\n",
    "        t2 = z2\n",
    "        t3 = 1/sigmoid(z3)\n",
    "        val_0_i_over_j[i, j] = trapezoidal_rule(np.multiply(make_tensor(t1, t2, t3),D))\n",
    "\n",
    "        t1 = sigmoid(z1)\n",
    "        t2 = 1/sigmoid(z2)\n",
    "        t3 = 1/sigmoid(z3)\n",
    "        val_0_over_ij[i, j] = trapezoidal_rule(np.multiply(make_tensor(t1, t2, t3),D))\t\t\n"
   ]
  },
  {
   "cell_type": "markdown",
   "metadata": {},
   "source": [
    "# Compute limit of terms listed in Lemma B.3"
   ]
  },
  {
   "cell_type": "code",
   "execution_count": 14,
   "metadata": {},
   "outputs": [],
   "source": [
    "# Compute term (i)\n",
    "var_t1 = 0\n",
    "for s in permutations([0,1,2]):\n",
    "\ta,b,c = s[0], s[1], s[2]\n",
    "\tvar_t1 += - 4 * e_gamma_0 * hs[a] / gamma / ts[b] * (ss[a] -1) + 4 * rs[c] * e_gamma_0**2 * hs[a]**2 / gamma**2 / rs[b] / ts[b]\n",
    "\tvar_t1 += (ss[a]-1)**2 / ts[b] + 2 * kappa / (rs[b] - 2 * kappa) / rs[c] * (1 - 2 * ss[a] + val_1_2_s[a])\n",
    "\tterm1 = gamma**2 * ((1 - alpha_i_star[a] )*ss[a] - val_2_1_s[a] + alpha_i_star[a]/2)**2\n",
    "\tterm2 = kappas[a] * sigma_i_star[a]**2 * (ss[a]- 0.5)**2\n",
    "\tvar_t1 += 2 / (rs[b] - 2 * kappa) * (term1 + term2)\n",
    "var_t1 *= (sigma**2 / 18)"
   ]
  },
  {
   "cell_type": "code",
   "execution_count": 15,
   "metadata": {},
   "outputs": [],
   "source": [
    "# Compute term (ii)\n",
    "var_t2 = 0\n",
    "for s in permutations([0,1,2]):\n",
    "\ta,b,c = s[0], s[1], s[2]\n",
    "\tvar_t2 += val_1_2_s[a] / rs[c]\n",
    "var_t2 *= (sigma**2 / 18)"
   ]
  },
  {
   "cell_type": "code",
   "execution_count": 16,
   "metadata": {},
   "outputs": [],
   "source": [
    "# Compute term (iii)\n",
    "cov_t1 = 0\n",
    "for s in permutations([0,1,2]):\n",
    "\ta,b,c = s[0], s[1], s[2]\n",
    "\tcov_t1 += ss[a]*(ss[a]-1)/ts[b] - 2 * e_gamma_0 * hs[a] * ss[a] / gamma / ts[b] + 2 / rs[b] * (val_prime_1_s[a] * hs[a] - (ss[a]-0.5)*val_0_i_over_i[a]  )\n",
    "\tcov_t1 += (2 * e_gamma_0 * hs[a] / gamma - ss[a] + 1) * fs[b,a] / rs[b] / ts[b]\n",
    "cov_t1 *= ((-2) * sigma**2 / 18)"
   ]
  },
  {
   "cell_type": "code",
   "execution_count": 17,
   "metadata": {},
   "outputs": [],
   "source": [
    "# Compute term (iv)\n",
    "cov_t2 = 0\n",
    "for s in permutations([0,1,2]):\n",
    "\ta,b,c = s[0], s[1], s[2]\n",
    "\tcov_t2 += ss[a]*(ss[a]-1)/ts[b] - 2 * e_gamma_0 * hs[a] * ss[a] / gamma / ts[b] + 2 / rs[b] * val_prime_1_s[c] * hs[a]   \n",
    "\tcov_t2 += (2 * e_gamma_0 * hs[a] / gamma - ss[a] + 1) * fs[b, c] / rs[b] / ts[b]\n",
    "\tcov_t2 += - 2 * (ss[c] - 0.5)/rs[b] * (lambda_i_star[c]*gs[a,c] + val_0_i_over_j[c, a])\n",
    "cov_t2 *= ((-2) * sigma**2 / 18)"
   ]
  },
  {
   "cell_type": "code",
   "execution_count": 18,
   "metadata": {},
   "outputs": [],
   "source": [
    "# Compute term (v)\n",
    "cov_t3 = 0\n",
    "for s in permutations([0,1,2]):\n",
    "\ta,b,c = s[0], s[1], s[2]\n",
    "\tcov_t3 += val_0_over_ij[b, c] /rs[a]\n",
    "cov_t3 *= (sigma**2 / 18)"
   ]
  },
  {
   "cell_type": "code",
   "execution_count": 19,
   "metadata": {},
   "outputs": [],
   "source": [
    "# Compute term (vi)\n",
    "cov_t4 = 0\n",
    "for s in permutations([0,1,2]):\n",
    "\ta,b,c = s[0], s[1], s[2]\n",
    "\tcov_t4 += (ss[a]-1)*(ss[c]-1)/ts[b] - 2*hs[c]*e_gamma_0*(ss[a]-1)/gamma/ts[b] - 2*hs[a]*e_gamma_0*(ss[c]-1)/gamma/ts[b]\n",
    "\tcov_t4 += 4 * np.sqrt(rs[a] * rs[c]) * hs[a] * hs[c] * e_gamma_0**2 / rs[b] / gamma**2 /ts[b]\n",
    "\tterm1 = val_prime_1_s[a] - alpha_i_star[a]*(ss[a]-0.5)\n",
    "\tterm2 = val_prime_1_s[c] - alpha_i_star[c]*(ss[c]-0.5)\n",
    "\tcov_t4 += 2*gamma**2/(rs[b] - 2*kappa)*term1*term2\n",
    "\tcov_t4 += - 2 * lambda_i_star[c] / (rs[b] - 2 * kappa)*gs[a,c]*(ss[c]-0.5)\n",
    "\tcov_t4 += - 2 * lambda_i_star[a] / (rs[b] - 2 * kappa)*gs[c,a]*(ss[a]-0.5)\n",
    "cov_t4 *= (sigma**2 / 18)"
   ]
  },
  {
   "cell_type": "markdown",
   "metadata": {},
   "source": [
    "# Compute the limit of the cross-fitting estimator"
   ]
  },
  {
   "cell_type": "code",
   "execution_count": 20,
   "metadata": {},
   "outputs": [
    {
     "name": "stdout",
     "output_type": "stream",
     "text": [
      "Asymptotic variance of the cross-fitting estimator is: 29.18999691137837\n"
     ]
    }
   ],
   "source": [
    "overall_var = var_t1 + var_t2 +  cov_t1 + cov_t2 + cov_t3 + cov_t4\n",
    "overall_var += (kappa * (gamma0**2 + gamma1**2 - 2 * rho_12 * gamma0 * gamma1) * (1/r1 + 1/r2 + 1/r3) / 9)\n",
    "print(f\"Asymptotic variance of the cross-fitting estimator is: {overall_var}\")"
   ]
  },
  {
   "cell_type": "code",
   "execution_count": 21,
   "metadata": {},
   "outputs": [
    {
     "name": "stdout",
     "output_type": "stream",
     "text": [
      "According to the classical formula, the asymptotic variance of the cross-fitting estimator is: 4.0260250417188015\n"
     ]
    }
   ],
   "source": [
    "classical_var = 2 * sigma**2 * (1 + np.exp(gamma**2/2)) + kappa * gamma1**2 + kappa * gamma0**2 - 2 * kappa * rho_12 * gamma1*gamma0\n",
    "print(f\"According to the classical formula, the asymptotic variance of the cross-fitting estimator is: {classical_var}\")"
   ]
  }
 ],
 "metadata": {
  "kernelspec": {
   "display_name": "Python 3",
   "language": "python",
   "name": "python3"
  },
  "language_info": {
   "codemirror_mode": {
    "name": "ipython",
    "version": 3
   },
   "file_extension": ".py",
   "mimetype": "text/x-python",
   "name": "python",
   "nbconvert_exporter": "python",
   "pygments_lexer": "ipython3",
   "version": "3.9.0"
  }
 },
 "nbformat": 4,
 "nbformat_minor": 2
}
