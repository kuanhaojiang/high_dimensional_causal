{
 "cells": [
  {
   "cell_type": "code",
   "execution_count": 28,
   "metadata": {},
   "outputs": [],
   "source": [
    "import numpy as np\n",
    "import matplotlib.pyplot as plt\n",
    "import pickle\n",
    "from scipy.stats import norm\n",
    "from generate_data import *"
   ]
  },
  {
   "cell_type": "code",
   "execution_count": 29,
   "metadata": {},
   "outputs": [],
   "source": [
    "# Define parameters\n",
    "n = 10000\n",
    "kappa = 0.07\n",
    "gamma = 0.1\n",
    "rho_12 = 0.2\n",
    "sigma = 1"
   ]
  },
  {
   "cell_type": "code",
   "execution_count": 30,
   "metadata": {},
   "outputs": [],
   "source": [
    "# Generate cross-fitting estimators\n",
    "crossfit_ests = get_cf_ests(kappa=kappa, n=n, gamma=gamma, rho_12=rho_12,\\\n",
    "                            sigma=sigma, num_rep=1000)\n",
    "\n",
    "# Store generated samples\n",
    "with open(\"cross_fitting_samples\", \"wb\") as fp:\n",
    "    pickle.dump(crossfit_ests, fp)"
   ]
  },
  {
   "cell_type": "code",
   "execution_count": 31,
   "metadata": {},
   "outputs": [],
   "source": [
    "# Load stored samples\n",
    "with open(\"cross_fitting_samples\", \"rb\") as fp:\n",
    "    crossfit_ests = np.array(pickle.load(fp))"
   ]
  },
  {
   "cell_type": "code",
   "execution_count": 32,
   "metadata": {},
   "outputs": [
    {
     "name": "stdout",
     "output_type": "stream",
     "text": [
      "Sample variance of the cross-fitting estimator is 26.776794120866892\n"
     ]
    }
   ],
   "source": [
    "# Compute sample variance\n",
    "sample_var = np.var(np.sqrt(n) * (crossfit_ests - 2))\n",
    "print(f\"Sample variance of the cross-fitting estimator is {sample_var}\")"
   ]
  },
  {
   "cell_type": "code",
   "execution_count": 33,
   "metadata": {},
   "outputs": [],
   "source": [
    "def normal_qq(sample, theo_var):\n",
    "\t# Generate normal qq plot with the given theoretical variance\n",
    "\t# Parameters:\n",
    "\t# sample: list of samples for which normal qq plots are generated\n",
    "\t# theo_var: population variance\n",
    "\t\n",
    "\tnobs = sample.shape[0]\n",
    "\tpercs = np.linspace(0,100,nobs)\n",
    "\tqn_b = np.percentile(sample, percs)\n",
    "\tqn_a = norm.ppf(percs/100, scale = np.sqrt(theo_var))\n",
    "\n",
    "\t# generate plots\n",
    "\tplt.scatter(qn_a,qn_b,  c =  \"b\")\n",
    "\tplt.plot([qn_b.min(), qn_b.max()], [qn_b.min(), qn_b.max()], c = 'r', label = '45-degree reference line')\n",
    "\tplt.title(\"Normal Q-Q Plot\", fontsize=15)\n",
    "\tplt.xlabel(\"Theoretical Quantiles\", fontsize=12)\n",
    "\tplt.ylabel(\"Sample Quantiles\", fontsize=12)\n",
    "\tplt.show()"
   ]
  },
  {
   "cell_type": "code",
   "execution_count": 34,
   "metadata": {},
   "outputs": [],
   "source": [
    "def normal_qq_overlaid(sample, theo_var, classical_theo_var):\n",
    "\t# Generate two normal qq plots with the given theoretical variances\n",
    "\t# Parameters:\n",
    "\t# sample: list of samples for which normal qq plots are generated\n",
    "\t# theo_var: population variance calculated according to our formula\n",
    "\t# classical_theo_var: population variance calculated according to the classical formula\n",
    "\n",
    "\t# generate qq plot according to our formula\n",
    "\tnobs = sample.shape[0]\n",
    "\tpercs = np.linspace(0,100,nobs)\n",
    "\tqn_b = np.percentile(sample, percs)\n",
    "\tqn_a = norm.ppf(percs/100, scale = np.sqrt(theo_var))\n",
    "\tplt.scatter(qn_a,qn_b,  c =  \"b\", label = 'Our Formula')\n",
    "\n",
    "\t# generate qq plot according to the classical formula\n",
    "\tqn_aa = norm.ppf(percs/100, scale = np.sqrt(classical_theo_var))\n",
    "\tplt.scatter(qn_aa,qn_b,  c =  \"c\", label = 'Classical Formula')\n",
    "\tplt.plot([qn_b, qn_b], [qn_b, qn_b], c = 'r', label = '45-degree reference line')\n",
    "\n",
    "\tplt.title(\"Normal Q-Q Plot\", fontsize=15)\n",
    "\tplt.xlabel(\"Theoretical Quantiles\", fontsize=12)\n",
    "\tplt.ylabel(\"Sample Quantiles\", fontsize=12)\n",
    "\tplt.legend()\n",
    "\tplt.show()"
   ]
  },
  {
   "cell_type": "code",
   "execution_count": 35,
   "metadata": {},
   "outputs": [],
   "source": [
    "# Center and scale the estimators\n",
    "scaled_crossfit_ests = (crossfit_ests-2)*np.sqrt(n)"
   ]
  },
  {
   "cell_type": "code",
   "execution_count": 36,
   "metadata": {},
   "outputs": [
    {
     "data": {
      "image/png": "[encoded data removed]",
      "text/plain": [
       "<Figure size 432x288 with 1 Axes>"
      ]
     },
     "metadata": {
      "needs_background": "light"
     },
     "output_type": "display_data"
    }
   ],
   "source": [
    "# Values computed in the notebook \"theoretical_variance.ipynb\"\n",
    "theo_val = 29.18999691137837\n",
    "classical_theo_var = 4.0260250417188015\n",
    "\n",
    "# Generate normal qq plots\n",
    "normal_qq_overlaid(scaled_crossfit_ests, theo_val, classical_theo_var)"
   ]
  },
  {
   "cell_type": "code",
   "execution_count": null,
   "metadata": {},
   "outputs": [],
   "source": []
  }
 ],
 "metadata": {
  "kernelspec": {
   "display_name": "Python 3",
   "language": "python",
   "name": "python3"
  },
  "language_info": {
   "codemirror_mode": {
    "name": "ipython",
    "version": 3
   },
   "file_extension": ".py",
   "mimetype": "text/x-python",
   "name": "python",
   "nbconvert_exporter": "python",
   "pygments_lexer": "ipython3",
   "version": "3.9.0"
  }
 },
 "nbformat": 4,
 "nbformat_minor": 2
}
